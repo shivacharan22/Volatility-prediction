{
 "cells": [
  {
   "cell_type": "code",
   "execution_count": 1,
   "metadata": {
    "execution": {
     "iopub.execute_input": "2021-07-22T07:25:52.304068Z",
     "iopub.status.busy": "2021-07-22T07:25:52.302709Z",
     "iopub.status.idle": "2021-07-22T07:25:53.756396Z",
     "shell.execute_reply": "2021-07-22T07:25:53.755540Z",
     "shell.execute_reply.started": "2021-07-22T07:07:17.049788Z"
    },
    "papermill": {
     "duration": 1.476498,
     "end_time": "2021-07-22T07:25:53.756603",
     "exception": false,
     "start_time": "2021-07-22T07:25:52.280105",
     "status": "completed"
    },
    "tags": []
   },
   "outputs": [],
   "source": [
    "import glob \r\n",
    "\r\n",
    "BASE_DIR = '/kaggle/input/optiver-realized-volatility-prediction/'\r\n",
    "\r\n",
    "# Paths to book and trade data\r\n",
    "TRAIN_BOOK_PATHS  = glob.glob(f'{BASE_DIR}book_train.parquet/*')\r\n",
    "TEST_BOOK_PATHS   = glob.glob(f'{BASE_DIR}book_test.parquet/*')\r\n",
    "TRAIN_TRADE_PATHS = glob.glob(f'{BASE_DIR}trade_train.parquet/*')\r\n",
    "TEST_TRADE_PATHS  = glob.glob(f'{BASE_DIR}trade_test.parquet/*')\r\n",
    "\r\n",
    "# Plotting\r\n",
    "import matplotlib.pyplot as plt \r\n",
    "\r\n",
    "# Working with dataframes and sequences\r\n",
    "import numpy as np\r\n",
    "import pandas as pd \r\n",
    "import xgboost as xgb\r\n",
    "from sklearn.model_selection import train_test_split,GridSearchCV\r\n",
    "from sklearn.metrics import mean_squared_error,make_scorer\r\n"
   ]
  },
  {
   "cell_type": "code",
   "execution_count": 2,
   "metadata": {
    "execution": {
     "iopub.execute_input": "2021-07-22T07:25:53.801373Z",
     "iopub.status.busy": "2021-07-22T07:25:53.800394Z",
     "iopub.status.idle": "2021-07-22T07:25:53.803541Z",
     "shell.execute_reply": "2021-07-22T07:25:53.803039Z",
     "shell.execute_reply.started": "2021-07-22T07:07:18.545705Z"
    },
    "papermill": {
     "duration": 0.029222,
     "end_time": "2021-07-22T07:25:53.803676",
     "exception": false,
     "start_time": "2021-07-22T07:25:53.774454",
     "status": "completed"
    },
    "tags": []
   },
   "outputs": [],
   "source": [
    "def log_return(list_stock_prices):\r\n",
    "    return np.log(list_stock_prices).diff() \r\n",
    "\r\n",
    "def realized_volatility(series_log_return):\r\n",
    "    return np.sqrt(np.sum(series_log_return**2))\r\n",
    "\r\n",
    "def rmspe(y_true, y_pred):\r\n",
    "    return  (np.sqrt(np.mean(np.square((y_true - y_pred) / y_true))))\r\n",
    "   \r\n"
   ]
  },
  {
   "cell_type": "code",
   "execution_count": 3,
   "metadata": {
    "execution": {
     "iopub.execute_input": "2021-07-22T07:25:53.870018Z",
     "iopub.status.busy": "2021-07-22T07:25:53.843167Z",
     "iopub.status.idle": "2021-07-22T07:25:53.876539Z",
     "shell.execute_reply": "2021-07-22T07:25:53.875989Z",
     "shell.execute_reply.started": "2021-07-22T07:07:18.560191Z"
    },
    "papermill": {
     "duration": 0.054814,
     "end_time": "2021-07-22T07:25:53.876678",
     "exception": false,
     "start_time": "2021-07-22T07:25:53.821864",
     "status": "completed"
    },
    "tags": []
   },
   "outputs": [],
   "source": [
    "class DataManager:\n",
    "    \"\"\" Used for processing the input data so the model can be fitted on it. \"\"\"\n",
    "    def __init__(self, train=True):\n",
    "        self._train = train\n",
    "        self._book_file_list = TRAIN_BOOK_PATHS if train else TEST_BOOK_PATHS\n",
    "        self._trade_file_list = TRAIN_TRADE_PATHS if train else TEST_TRADE_PATHS\n",
    "        self.measures_list = []\n",
    "    \n",
    "    def _traverse_book(self):\n",
    "        \"\"\" Goes through each of the training files. \"\"\"\n",
    "        for book_file_path, trade_file_path in zip(self._book_file_list, self._trade_file_list):\n",
    "            stock_id = book_file_path.split(\"=\")[1] # Getting the stock_id\n",
    "            print(stock_id)\n",
    "            # Reading the book info and preparing it for aggregation\n",
    "            book = pd.read_parquet(book_file_path)\n",
    "            \n",
    "            book.sort_values(by=['time_id', 'seconds_in_bucket'])\n",
    "            \n",
    "            book['wap1'] = (book['bid_price1'] * book['ask_size1'] + book['ask_price1'] * book['bid_size1']) / (book['bid_size1']+ book['ask_size1'])\n",
    "            book['log_return1'] = book.groupby(['time_id'])['wap1'].apply(log_return) \n",
    "            book = book[~book['log_return1'].isnull()]\n",
    "            \n",
    "            book['wap2'] = (book['bid_price2'] * book['ask_size2'] + book['ask_price2'] * book['bid_size2']) / (book['bid_size2']+ book['ask_size2'])\n",
    "            book['log_return2'] = book.groupby(['time_id'])['wap2'].apply(log_return)\n",
    "            book = book[~book['log_return2'].isnull()]\n",
    "            \n",
    "            # Different spreads: Get the max of these for each time_id\n",
    "            book['h_spread_l1'] = book['ask_price1'] - book['bid_price1']\n",
    "            book['h_spread_l2'] = book['ask_price2'] - book['bid_price2']\n",
    "            book['v_spread_b']  = book['bid_price1'] - book['bid_price2']\n",
    "            book['v_spread_a']  = book['ask_price1'] - book['bid_price2']\n",
    "            \n",
    "            book.loc[:, 'bas'] = (book.loc[:, ('ask_price1', 'ask_price2')].min(axis = 1) / book.loc[:, ('bid_price1', 'bid_price2')].max(axis = 1) - 1) \n",
    "            \n",
    "            trade = pd.read_parquet(trade_file_path)\n",
    "            \n",
    "            # Slicing the train data based on stock_id\n",
    "            book_stock_slice = train[train['stock_id'] == int(stock_id)]\n",
    "            \n",
    "            for time_id in book['time_id'].unique():\n",
    "                book_slice = book[book['time_id'] == time_id] # Slicing based on time_id\n",
    "                trade_slice = trade[trade['time_id'] == time_id]\n",
    "                p3 = p4 = k10 = k5 = k = q5 = q10 = 1\n",
    "                if  not trade_slice.empty:\n",
    "                    trade_slice_1st = trade_slice['seconds_in_bucket'].iloc[0]\n",
    "                    trade_slice_last = trade_slice['seconds_in_bucket'].iloc[-1]\n",
    "            \n",
    "                    # Feature constrution\n",
    "                    mid_index = int(len(trade_slice['seconds_in_bucket'])/2)\n",
    "                    for i in book_slice['seconds_in_bucket']:\n",
    "                        if i <=trade_slice_1st:\n",
    "                            k = k+1\n",
    "                        if i <= 300:\n",
    "                            k5 = k5+1\n",
    "                        if i <= trade_slice_last:\n",
    "                            k10 = k10+1\n",
    "                    q10 = np.sum(np.multiply(trade_slice['order_count'],trade_slice['size']))\n",
    "                    for j in range(trade_slice.shape[0]):\n",
    "                        if trade_slice['seconds_in_bucket'].iloc[j] <= 300:\n",
    "                            q5 += trade_slice['order_count'].iloc[j]*trade_slice['size'].iloc[j]\n",
    "                    no_of_orders_in_book1 = k\n",
    "                    no_of_orders_in_book5 = k5\n",
    "                    no_of_orders_in_book10 = k10\n",
    "                    os_just_be_5 = q5\n",
    "                    os_10 = q10\n",
    "                    p1 = k5/k\n",
    "                    p2 = k10/k\n",
    "                    p3 = np.sum(book_slice['bid_size1'])/np.sum(trade_slice['order_count'])\n",
    "                    p4 = np.sum(book_slice['ask_size1'])/np.sum(trade_slice['order_count'])\n",
    "                    p5 = q10/q5\n",
    "                \n",
    "                # features\n",
    "                dic = {\n",
    "                    'row_id': f\"{stock_id}-{time_id}\", # Fixing row-id from here\n",
    "                    \n",
    "                    'wap1_mean': book_slice['wap1'].mean(),\n",
    "                    'wap1_std':book_slice['wap1'].std(),\n",
    "                    'wap1_max':book_slice['wap1'].max(),\n",
    "                    \n",
    "                    'wap2_mean': book_slice['wap2'].mean(),\n",
    "                    'wap2_std':book_slice['wap2'].std(),\n",
    "                    'wap2_max':book_slice['wap2'].max(),\n",
    "\n",
    "                    'h_spread_l1_mean': book_slice['h_spread_l1'].mean(),\n",
    "                    'h_spread_l1_std': book_slice['h_spread_l1'].std(),\n",
    "                    'h_spread_l1_std': book_slice['h_spread_l1'].max(),\n",
    "                    \n",
    "                    'h_spread_l2_mean': book_slice['h_spread_l2'].mean(),\n",
    "                    'h_spread_l2_std': book_slice['h_spread_l2'].std(),\n",
    "                    'h_spread_l2_max': book_slice['h_spread_l2'].max(),\n",
    "                    \n",
    "                    'v_spread_b_mean': book_slice['v_spread_b'].mean(),\n",
    "                    'v_spread_b_std': book_slice['v_spread_b'].std(),\n",
    "                    'v_spread_b_max': book_slice['v_spread_b'].max(),\n",
    "                    \n",
    "                    'v_spread_a_mean': book_slice['v_spread_a'].mean(),\n",
    "                    'v_spread_a_std': book_slice['v_spread_a'].std(),\n",
    "                    'v_spread_a_max': book_slice['v_spread_a'].max(),\n",
    "                    \n",
    "                    'log_return1_mean': book_slice['log_return1'].mean(),\n",
    "                    'log_return1_std':book_slice['log_return1'].std(),\n",
    "                    'log_return1_max':book_slice['log_return1'].max(),\n",
    "                    \n",
    "                    'log_return2_mean': book_slice['log_return2'].mean(),\n",
    "                    'log_return2_std':book_slice['log_return2'].std(),\n",
    "                    'log_return2_max':book_slice['log_return2'].max(),\n",
    "                    \n",
    "                    'bas_mean': book_slice['bas'].mean(),\n",
    "                    'bas_std': book_slice['bas'].std(),\n",
    "                    'bas_max': book_slice['bas'].max(),\n",
    "                    \n",
    "                    'ask_size_mean': book_slice['ask_size1'].mean(),\n",
    "                    'ask_size_std': book_slice['ask_size1'].std(),\n",
    "                    \n",
    "                    'ask_price_mean': book_slice['ask_price1'].mean(),\n",
    "                    'ask_price_std': book_slice['ask_price1'].std(),\n",
    "                    \n",
    "                    'bid_size_mean': book_slice['bid_size1'].mean(),\n",
    "                    'bid_size_std': book_slice['bid_size1'].std(),\n",
    "                    \n",
    "                    'bid_price_mean': book_slice['bid_price1'].mean(),\n",
    "                    'bid_price_std': book_slice['bid_price1'].std(),\n",
    "                    \n",
    "                    'order_count_mean': trade_slice['order_count'].mean(),\n",
    "                    'order_count_std': trade_slice['order_count'].std(),\n",
    "                    \n",
    "                    'orders_time_book5' : p1,\n",
    "                    'orders_time_book10' : p2,\n",
    "                    \n",
    "                    'ratio_bid_count' :p3,\n",
    "                    'ratio_ask_count' :p4,\n",
    "                    \n",
    "                    'order_size_time_trade' :p5\n",
    "                }\n",
    "                \n",
    "                # Note: When getting the test_data ready, there is no target column.\n",
    "                if self._train: dic['target'] = book_stock_slice[book_stock_slice['time_id'] == time_id]['target'].values[0]\n",
    "                \n",
    "                self.measures_list.append(dic)\n",
    "            \n",
    "            \n",
    "    def get_processed(self):\n",
    "        \"\"\" Returns the processed the data. \"\"\"\n",
    "        self._traverse_book() \n",
    "        \n",
    "        return pd.DataFrame(self.measures_list)"
   ]
  },
  {
   "cell_type": "code",
   "execution_count": 4,
   "metadata": {
    "execution": {
     "iopub.execute_input": "2021-07-22T07:25:53.918297Z",
     "iopub.status.busy": "2021-07-22T07:25:53.917255Z",
     "iopub.status.idle": "2021-07-22T07:25:53.920456Z",
     "shell.execute_reply": "2021-07-22T07:25:53.919853Z",
     "shell.execute_reply.started": "2021-07-22T07:07:18.596331Z"
    },
    "papermill": {
     "duration": 0.025411,
     "end_time": "2021-07-22T07:25:53.920588",
     "exception": false,
     "start_time": "2021-07-22T07:25:53.895177",
     "status": "completed"
    },
    "tags": []
   },
   "outputs": [],
   "source": [
    "# feature preposs\n",
    "#bookma = DataManager().get_processed()\n",
    "#bookma.to_csv('/kaggle/working/train_sp.csv', index=False)"
   ]
  },
  {
   "cell_type": "code",
   "execution_count": 5,
   "metadata": {
    "execution": {
     "iopub.execute_input": "2021-07-22T07:25:53.963682Z",
     "iopub.status.busy": "2021-07-22T07:25:53.962940Z",
     "iopub.status.idle": "2021-07-22T07:26:02.721614Z",
     "shell.execute_reply": "2021-07-22T07:26:02.720823Z",
     "shell.execute_reply.started": "2021-07-22T07:07:18.610115Z"
    },
    "papermill": {
     "duration": 8.783267,
     "end_time": "2021-07-22T07:26:02.721767",
     "exception": false,
     "start_time": "2021-07-22T07:25:53.938500",
     "status": "completed"
    },
    "tags": []
   },
   "outputs": [
    {
     "name": "stdout",
     "output_type": "stream",
     "text": [
      "0\n"
     ]
    }
   ],
   "source": [
    "data = pd.read_csv('../input/features-preposs-data/train_sp.csv')\n",
    "test_data = DataManager(train=False).get_processed()\n",
    "\n",
    "# Min-Max Scaling the data for better models\n",
    "for col_name in data.columns[1:-1]:\n",
    "    test_data[col_name] = (test_data[col_name] - data[col_name].min()) / (data[col_name].max() - data[col_name].min())\n",
    "    data[col_name] = (data[col_name] - data[col_name].min()) / (data[col_name].max() - data[col_name].min())\n"
   ]
  },
  {
   "cell_type": "code",
   "execution_count": 6,
   "metadata": {
    "execution": {
     "iopub.execute_input": "2021-07-22T07:26:02.766135Z",
     "iopub.status.busy": "2021-07-22T07:26:02.765444Z",
     "iopub.status.idle": "2021-07-22T07:26:02.769566Z",
     "shell.execute_reply": "2021-07-22T07:26:02.769083Z",
     "shell.execute_reply.started": "2021-07-22T07:15:59.654757Z"
    },
    "papermill": {
     "duration": 0.029224,
     "end_time": "2021-07-22T07:26:02.769702",
     "exception": false,
     "start_time": "2021-07-22T07:26:02.740478",
     "status": "completed"
    },
    "tags": []
   },
   "outputs": [
    {
     "data": {
      "text/plain": [
       "43"
      ]
     },
     "execution_count": 6,
     "metadata": {},
     "output_type": "execute_result"
    }
   ],
   "source": [
    "len(data.columns)"
   ]
  },
  {
   "cell_type": "code",
   "execution_count": 7,
   "metadata": {
    "execution": {
     "iopub.execute_input": "2021-07-22T07:26:02.861723Z",
     "iopub.status.busy": "2021-07-22T07:26:02.861000Z",
     "iopub.status.idle": "2021-07-22T07:26:03.062417Z",
     "shell.execute_reply": "2021-07-22T07:26:03.062993Z",
     "shell.execute_reply.started": "2021-07-22T07:17:34.278533Z"
    },
    "papermill": {
     "duration": 0.275238,
     "end_time": "2021-07-22T07:26:03.063174",
     "exception": false,
     "start_time": "2021-07-22T07:26:02.787936",
     "status": "completed"
    },
    "tags": []
   },
   "outputs": [],
   "source": [
    "\n",
    "# Training Data\n",
    "X, y =  data.iloc[:,1:-1], data['target']\n",
    "\n",
    "# Test Data\n",
    "X_test = test_data.iloc[:,1:]\n",
    "\n",
    "# Getting training and validations plits to check for overfitting\n",
    "X_train, X_val, y_train, y_val = train_test_split(X, y, test_size=0.1, random_state=42)"
   ]
  },
  {
   "cell_type": "code",
   "execution_count": 8,
   "metadata": {
    "execution": {
     "iopub.execute_input": "2021-07-22T07:26:03.103656Z",
     "iopub.status.busy": "2021-07-22T07:26:03.103000Z",
     "iopub.status.idle": "2021-07-22T07:26:03.108083Z",
     "shell.execute_reply": "2021-07-22T07:26:03.108606Z",
     "shell.execute_reply.started": "2021-07-22T07:17:37.669271Z"
    },
    "papermill": {
     "duration": 0.026459,
     "end_time": "2021-07-22T07:26:03.108771",
     "exception": false,
     "start_time": "2021-07-22T07:26:03.082312",
     "status": "completed"
    },
    "tags": []
   },
   "outputs": [
    {
     "data": {
      "text/plain": [
       "41"
      ]
     },
     "execution_count": 8,
     "metadata": {},
     "output_type": "execute_result"
    }
   ],
   "source": [
    "len(X_train.columns)"
   ]
  },
  {
   "cell_type": "code",
   "execution_count": 9,
   "metadata": {
    "execution": {
     "iopub.execute_input": "2021-07-22T07:26:03.149352Z",
     "iopub.status.busy": "2021-07-22T07:26:03.148698Z",
     "iopub.status.idle": "2021-07-22T07:26:03.154679Z",
     "shell.execute_reply": "2021-07-22T07:26:03.154197Z",
     "shell.execute_reply.started": "2021-07-22T07:17:38.080238Z"
    },
    "papermill": {
     "duration": 0.027114,
     "end_time": "2021-07-22T07:26:03.154816",
     "exception": false,
     "start_time": "2021-07-22T07:26:03.127702",
     "status": "completed"
    },
    "tags": []
   },
   "outputs": [
    {
     "data": {
      "text/plain": [
       "41"
      ]
     },
     "execution_count": 9,
     "metadata": {},
     "output_type": "execute_result"
    }
   ],
   "source": [
    "len(X_test.columns)"
   ]
  },
  {
   "cell_type": "markdown",
   "metadata": {
    "papermill": {
     "duration": 0.018454,
     "end_time": "2021-07-22T07:26:03.192217",
     "exception": false,
     "start_time": "2021-07-22T07:26:03.173763",
     "status": "completed"
    },
    "tags": []
   },
   "source": [
    "<a href=\"./train_sp.csv\"> Download File </a>"
   ]
  },
  {
   "cell_type": "code",
   "execution_count": 10,
   "metadata": {
    "execution": {
     "iopub.execute_input": "2021-07-22T07:26:03.236868Z",
     "iopub.status.busy": "2021-07-22T07:26:03.236238Z",
     "iopub.status.idle": "2021-07-22T07:28:47.346671Z",
     "shell.execute_reply": "2021-07-22T07:28:47.345747Z",
     "shell.execute_reply.started": "2021-07-22T07:17:39.943825Z"
    },
    "papermill": {
     "duration": 164.135793,
     "end_time": "2021-07-22T07:28:47.346895",
     "exception": false,
     "start_time": "2021-07-22T07:26:03.211102",
     "status": "completed"
    },
    "tags": []
   },
   "outputs": [
    {
     "name": "stdout",
     "output_type": "stream",
     "text": [
      "[0]\tvalidation_0-rmse:0.34729\n",
      "[1]\tvalidation_0-rmse:0.24311\n",
      "[2]\tvalidation_0-rmse:0.17018\n",
      "[3]\tvalidation_0-rmse:0.11914\n",
      "[4]\tvalidation_0-rmse:0.08340\n",
      "[5]\tvalidation_0-rmse:0.05839\n",
      "[6]\tvalidation_0-rmse:0.04089\n",
      "[7]\tvalidation_0-rmse:0.02865\n",
      "[8]\tvalidation_0-rmse:0.02008\n",
      "[9]\tvalidation_0-rmse:0.01410\n",
      "[10]\tvalidation_0-rmse:0.00992\n",
      "[11]\tvalidation_0-rmse:0.00703\n",
      "[12]\tvalidation_0-rmse:0.00503\n",
      "[13]\tvalidation_0-rmse:0.00367\n",
      "[14]\tvalidation_0-rmse:0.00277\n",
      "[15]\tvalidation_0-rmse:0.00219\n",
      "[16]\tvalidation_0-rmse:0.00185\n",
      "[17]\tvalidation_0-rmse:0.00165\n",
      "[18]\tvalidation_0-rmse:0.00154\n",
      "[19]\tvalidation_0-rmse:0.00149\n",
      "[20]\tvalidation_0-rmse:0.00146\n",
      "[21]\tvalidation_0-rmse:0.00144\n",
      "[22]\tvalidation_0-rmse:0.00144\n",
      "[23]\tvalidation_0-rmse:0.00144\n",
      "[24]\tvalidation_0-rmse:0.00143\n",
      "[25]\tvalidation_0-rmse:0.00143\n",
      "[26]\tvalidation_0-rmse:0.00143\n",
      "[27]\tvalidation_0-rmse:0.00143\n",
      "[28]\tvalidation_0-rmse:0.00142\n",
      "[29]\tvalidation_0-rmse:0.00142\n",
      "[30]\tvalidation_0-rmse:0.00142\n",
      "[31]\tvalidation_0-rmse:0.00142\n",
      "[32]\tvalidation_0-rmse:0.00142\n",
      "[33]\tvalidation_0-rmse:0.00142\n",
      "[34]\tvalidation_0-rmse:0.00142\n",
      "[35]\tvalidation_0-rmse:0.00142\n",
      "[36]\tvalidation_0-rmse:0.00142\n",
      "[37]\tvalidation_0-rmse:0.00141\n",
      "[38]\tvalidation_0-rmse:0.00142\n",
      "[39]\tvalidation_0-rmse:0.00142\n",
      "[40]\tvalidation_0-rmse:0.00141\n",
      "[41]\tvalidation_0-rmse:0.00141\n",
      "[42]\tvalidation_0-rmse:0.00141\n",
      "[43]\tvalidation_0-rmse:0.00141\n",
      "[44]\tvalidation_0-rmse:0.00141\n",
      "[45]\tvalidation_0-rmse:0.00141\n",
      "[46]\tvalidation_0-rmse:0.00141\n",
      "[47]\tvalidation_0-rmse:0.00141\n",
      "[48]\tvalidation_0-rmse:0.00141\n",
      "[49]\tvalidation_0-rmse:0.00141\n",
      "[50]\tvalidation_0-rmse:0.00141\n",
      "[51]\tvalidation_0-rmse:0.00141\n",
      "[52]\tvalidation_0-rmse:0.00141\n",
      "[53]\tvalidation_0-rmse:0.00141\n",
      "[54]\tvalidation_0-rmse:0.00141\n",
      "[55]\tvalidation_0-rmse:0.00141\n",
      "[56]\tvalidation_0-rmse:0.00141\n",
      "[57]\tvalidation_0-rmse:0.00141\n",
      "[58]\tvalidation_0-rmse:0.00141\n",
      "[59]\tvalidation_0-rmse:0.00141\n",
      "[60]\tvalidation_0-rmse:0.00141\n",
      "[61]\tvalidation_0-rmse:0.00141\n",
      "[62]\tvalidation_0-rmse:0.00141\n",
      "[63]\tvalidation_0-rmse:0.00141\n",
      "[64]\tvalidation_0-rmse:0.00141\n",
      "[65]\tvalidation_0-rmse:0.00141\n",
      "[66]\tvalidation_0-rmse:0.00141\n",
      "[67]\tvalidation_0-rmse:0.00141\n",
      "[68]\tvalidation_0-rmse:0.00141\n",
      "[69]\tvalidation_0-rmse:0.00141\n",
      "[70]\tvalidation_0-rmse:0.00141\n",
      "[71]\tvalidation_0-rmse:0.00141\n",
      "[72]\tvalidation_0-rmse:0.00141\n",
      "[73]\tvalidation_0-rmse:0.00141\n",
      "[74]\tvalidation_0-rmse:0.00141\n",
      "[75]\tvalidation_0-rmse:0.00141\n",
      "[76]\tvalidation_0-rmse:0.00141\n",
      "[77]\tvalidation_0-rmse:0.00141\n",
      "[78]\tvalidation_0-rmse:0.00141\n",
      "[79]\tvalidation_0-rmse:0.00141\n",
      "[80]\tvalidation_0-rmse:0.00140\n",
      "[81]\tvalidation_0-rmse:0.00140\n",
      "[82]\tvalidation_0-rmse:0.00140\n",
      "[83]\tvalidation_0-rmse:0.00140\n",
      "[84]\tvalidation_0-rmse:0.00140\n",
      "[85]\tvalidation_0-rmse:0.00140\n",
      "[86]\tvalidation_0-rmse:0.00140\n",
      "[87]\tvalidation_0-rmse:0.00140\n",
      "[88]\tvalidation_0-rmse:0.00140\n",
      "[89]\tvalidation_0-rmse:0.00140\n",
      "[90]\tvalidation_0-rmse:0.00140\n",
      "[91]\tvalidation_0-rmse:0.00140\n",
      "[92]\tvalidation_0-rmse:0.00140\n",
      "[93]\tvalidation_0-rmse:0.00140\n",
      "[94]\tvalidation_0-rmse:0.00140\n",
      "[95]\tvalidation_0-rmse:0.00140\n",
      "[96]\tvalidation_0-rmse:0.00140\n",
      "[97]\tvalidation_0-rmse:0.00140\n",
      "[98]\tvalidation_0-rmse:0.00140\n",
      "[99]\tvalidation_0-rmse:0.00140\n"
     ]
    },
    {
     "data": {
      "text/plain": [
       "XGBRegressor(base_score=0.5, booster='gbtree', colsample_bylevel=1,\n",
       "             colsample_bynode=1, colsample_bytree=1, gamma=0, gpu_id=-1,\n",
       "             importance_type='gain', interaction_constraints='',\n",
       "             learning_rate=0.300000012, max_delta_step=0, max_depth=6,\n",
       "             min_child_weight=1, missing=nan, monotone_constraints='()',\n",
       "             n_estimators=100, n_jobs=4, num_parallel_tree=1, random_state=0,\n",
       "             reg_alpha=0, reg_lambda=1, scale_pos_weight=1, subsample=1,\n",
       "             tree_method='exact', validate_parameters=1, verbosity=None)"
      ]
     },
     "execution_count": 10,
     "metadata": {},
     "output_type": "execute_result"
    }
   ],
   "source": [
    "reg_xgb = xgb.XGBRegressor(objective='reg:squarederror')\n",
    "reg_xgb.fit(X_train,\n",
    "           y_train,\n",
    "           verbose=True,\n",
    "           early_stopping_rounds = 100,\n",
    "           eval_metric ='rmse',\n",
    "           eval_set = [(X_val,y_val)])"
   ]
  },
  {
   "cell_type": "code",
   "execution_count": 11,
   "metadata": {
    "execution": {
     "iopub.execute_input": "2021-07-22T07:28:47.448451Z",
     "iopub.status.busy": "2021-07-22T07:28:47.447732Z",
     "iopub.status.idle": "2021-07-22T07:28:47.511061Z",
     "shell.execute_reply": "2021-07-22T07:28:47.511649Z",
     "shell.execute_reply.started": "2021-07-22T07:20:42.804322Z"
    },
    "papermill": {
     "duration": 0.115729,
     "end_time": "2021-07-22T07:28:47.511866",
     "exception": false,
     "start_time": "2021-07-22T07:28:47.396137",
     "status": "completed"
    },
    "tags": []
   },
   "outputs": [
    {
     "name": "stdout",
     "output_type": "stream",
     "text": [
      " RMSPE: 0.3118883972940022\n"
     ]
    }
   ],
   "source": [
    "validate(reg_xgb)"
   ]
  },
  {
   "cell_type": "code",
   "execution_count": 12,
   "metadata": {
    "execution": {
     "iopub.execute_input": "2021-07-22T07:28:47.619658Z",
     "iopub.status.busy": "2021-07-22T07:28:47.618870Z",
     "iopub.status.idle": "2021-07-22T07:28:47.631495Z",
     "shell.execute_reply": "2021-07-22T07:28:47.630808Z",
     "shell.execute_reply.started": "2021-07-22T07:25:16.288702Z"
    },
    "papermill": {
     "duration": 0.067118,
     "end_time": "2021-07-22T07:28:47.631660",
     "exception": false,
     "start_time": "2021-07-22T07:28:47.564542",
     "status": "completed"
    },
    "tags": []
   },
   "outputs": [],
   "source": [
    "submit(reg_xgb.predict(X_test))\n"
   ]
  },
  {
   "cell_type": "code",
   "execution_count": 13,
   "metadata": {
    "execution": {
     "iopub.execute_input": "2021-07-22T07:28:47.736326Z",
     "iopub.status.busy": "2021-07-22T07:28:47.735620Z",
     "iopub.status.idle": "2021-07-22T07:28:47.738259Z",
     "shell.execute_reply": "2021-07-22T07:28:47.738713Z",
     "shell.execute_reply.started": "2021-07-22T07:25:24.121233Z"
    },
    "papermill": {
     "duration": 0.056679,
     "end_time": "2021-07-22T07:28:47.738920",
     "exception": false,
     "start_time": "2021-07-22T07:28:47.682241",
     "status": "completed"
    },
    "tags": []
   },
   "outputs": [],
   "source": [
    "\n",
    "#pd.read_csv('/kaggle/working/submission.csv')"
   ]
  },
  {
   "cell_type": "markdown",
   "metadata": {
    "papermill": {
     "duration": 0.04895,
     "end_time": "2021-07-22T07:28:47.838713",
     "exception": false,
     "start_time": "2021-07-22T07:28:47.789763",
     "status": "completed"
    },
    "tags": []
   },
   "source": [
    "**------------------------------------------------------------------------------------------------------------------------------------------------------------------**\n",
    "#Optimizing dont care"
   ]
  },
  {
   "cell_type": "code",
   "execution_count": 14,
   "metadata": {
    "execution": {
     "iopub.execute_input": "2021-07-22T07:28:47.943043Z",
     "iopub.status.busy": "2021-07-22T07:28:47.942339Z",
     "iopub.status.idle": "2021-07-22T07:28:47.945389Z",
     "shell.execute_reply": "2021-07-22T07:28:47.944858Z"
    },
    "papermill": {
     "duration": 0.056448,
     "end_time": "2021-07-22T07:28:47.945539",
     "exception": false,
     "start_time": "2021-07-22T07:28:47.889091",
     "status": "completed"
    },
    "tags": []
   },
   "outputs": [],
   "source": [
    "#reg_xgb = xgb.XGBRegressor(objective='reg:squarederror',\n",
    "                           #max_depth = 8\n",
    "                          #)"
   ]
  },
  {
   "cell_type": "code",
   "execution_count": 15,
   "metadata": {
    "execution": {
     "iopub.execute_input": "2021-07-22T07:28:48.050254Z",
     "iopub.status.busy": "2021-07-22T07:28:48.049587Z",
     "iopub.status.idle": "2021-07-22T07:28:48.052618Z",
     "shell.execute_reply": "2021-07-22T07:28:48.052100Z"
    },
    "papermill": {
     "duration": 0.05704,
     "end_time": "2021-07-22T07:28:48.052755",
     "exception": false,
     "start_time": "2021-07-22T07:28:47.995715",
     "status": "completed"
    },
    "tags": []
   },
   "outputs": [],
   "source": [
    "#reg_xgb.fit(X_train,\n",
    "          # y_train,\n",
    "          # verbose=True,\n",
    "          # early_stopping_rounds = 100,\n",
    "          # eval_metric ='rmse',\n",
    "          # eval_set = [(X_val,y_val)])"
   ]
  },
  {
   "cell_type": "code",
   "execution_count": 16,
   "metadata": {
    "execution": {
     "iopub.execute_input": "2021-07-22T07:28:48.156677Z",
     "iopub.status.busy": "2021-07-22T07:28:48.156040Z",
     "iopub.status.idle": "2021-07-22T07:28:48.159244Z",
     "shell.execute_reply": "2021-07-22T07:28:48.158616Z"
    },
    "papermill": {
     "duration": 0.05626,
     "end_time": "2021-07-22T07:28:48.159380",
     "exception": false,
     "start_time": "2021-07-22T07:28:48.103120",
     "status": "completed"
    },
    "tags": []
   },
   "outputs": [],
   "source": [
    "#param_grid = {\n",
    "   # 'max_depth' :[3,4,5],\n",
    "    #'learning_rate': [0.1,0.01,0.05],\n",
    "   # 'gamma':[0,0.25,1.0],\n",
    "    #'reg_lambda':[0,1.0,10.0],\n",
    "    #'scale_pos_weight': [1,3,5]\n",
    "#}"
   ]
  },
  {
   "cell_type": "code",
   "execution_count": 17,
   "metadata": {
    "execution": {
     "iopub.execute_input": "2021-07-22T07:28:48.262826Z",
     "iopub.status.busy": "2021-07-22T07:28:48.262194Z",
     "iopub.status.idle": "2021-07-22T07:28:48.265533Z",
     "shell.execute_reply": "2021-07-22T07:28:48.265044Z"
    },
    "papermill": {
     "duration": 0.05671,
     "end_time": "2021-07-22T07:28:48.265677",
     "exception": false,
     "start_time": "2021-07-22T07:28:48.208967",
     "status": "completed"
    },
    "tags": []
   },
   "outputs": [],
   "source": [
    "#optimal_params = GridSearchCV(estimator = xgb.XGBRegressor(objective='reg:squarederror',\n",
    "                                                           #subsample = 0.9,\n",
    "                                                          # colsample_bytree = 0.5),\n",
    "                              #param_grid = param_grid,\n",
    "                             # scoring = 'neg_root_mean_squared_error',\n",
    "                             # verbose = 2,\n",
    "                             # n_jobs = -1,\n",
    "                             # cv = 2\n",
    "                            # )"
   ]
  },
  {
   "cell_type": "code",
   "execution_count": 18,
   "metadata": {
    "execution": {
     "iopub.execute_input": "2021-07-22T07:28:48.368766Z",
     "iopub.status.busy": "2021-07-22T07:28:48.368098Z",
     "iopub.status.idle": "2021-07-22T07:28:48.370644Z",
     "shell.execute_reply": "2021-07-22T07:28:48.371106Z"
    },
    "papermill": {
     "duration": 0.056137,
     "end_time": "2021-07-22T07:28:48.371279",
     "exception": false,
     "start_time": "2021-07-22T07:28:48.315142",
     "status": "completed"
    },
    "tags": []
   },
   "outputs": [],
   "source": [
    "#optimal_params.fit(X_train,\n",
    "                  # y_train,\n",
    "                  # verbose=False,\n",
    "                   #early_stopping_rounds = 10,\n",
    "                  # eval_metric ='rmse',\n",
    "                 #  eval_set = [(X_val,y_val)]\n",
    "                 # )\n"
   ]
  },
  {
   "cell_type": "code",
   "execution_count": null,
   "metadata": {
    "papermill": {
     "duration": 0.04889,
     "end_time": "2021-07-22T07:28:48.469685",
     "exception": false,
     "start_time": "2021-07-22T07:28:48.420795",
     "status": "completed"
    },
    "tags": []
   },
   "outputs": [],
   "source": []
  },
  {
   "cell_type": "code",
   "execution_count": null,
   "metadata": {
    "papermill": {
     "duration": 0.060574,
     "end_time": "2021-07-22T07:28:48.579609",
     "exception": false,
     "start_time": "2021-07-22T07:28:48.519035",
     "status": "completed"
    },
    "tags": []
   },
   "outputs": [],
   "source": []
  }
 ],
 "metadata": {
  "kernelspec": {
   "display_name": "Python 3",
   "language": "python",
   "name": "python3"
  },
  "language_info": {
   "codemirror_mode": {
    "name": "ipython",
    "version": 3
   },
   "file_extension": ".py",
   "mimetype": "text/x-python",
   "name": "python",
   "nbconvert_exporter": "python",
   "pygments_lexer": "ipython3",
   "version": "3.7.10"
  },
  "papermill": {
   "default_parameters": {},
   "duration": 185.380565,
   "end_time": "2021-07-22T07:28:49.352206",
   "environment_variables": {},
   "exception": null,
   "input_path": "__notebook__.ipynb",
   "output_path": "__notebook__.ipynb",
   "parameters": {},
   "start_time": "2021-07-22T07:25:43.971641",
   "version": "2.3.3"
  }
 },
 "nbformat": 4,
 "nbformat_minor": 5
}