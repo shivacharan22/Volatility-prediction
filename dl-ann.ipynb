{
 "cells": [
  {
   "cell_type": "code",
   "execution_count": 1,
   "metadata": {
    "execution": {
     "iopub.execute_input": "2021-08-25T14:17:35.513304Z",
     "iopub.status.busy": "2021-08-25T14:17:35.512558Z",
     "iopub.status.idle": "2021-08-25T14:17:43.689213Z",
     "shell.execute_reply": "2021-08-25T14:17:43.689810Z",
     "shell.execute_reply.started": "2021-08-25T14:16:17.042929Z"
    },
    "papermill": {
     "duration": 8.210146,
     "end_time": "2021-08-25T14:17:43.690120",
     "exception": false,
     "start_time": "2021-08-25T14:17:35.479974",
     "status": "completed"
    },
    "tags": []
   },
   "outputs": [],
   "source": [
    "import glob \r\n",
    "\r\n",
    "BASE_DIR = 'D:/'\r\n",
    "\r\n",
    "# Paths to book and trade data\r\n",
    "TRAIN_BOOK_PATHS  = glob.glob(f'{BASE_DIR}book_train.parquet/*')\r\n",
    "TEST_BOOK_PATHS   = glob.glob(f'{BASE_DIR}book_test.parquet/*')\r\n",
    "TRAIN_TRADE_PATHS = glob.glob(f'{BASE_DIR}trade_train.parquet/*')\r\n",
    "TEST_TRADE_PATHS  = glob.glob(f'{BASE_DIR}trade_test.parquet/*')\r\n",
    "\r\n",
    "# Plotting\r\n",
    "import matplotlib.pyplot as plt \r\n",
    "\r\n",
    "# Working with dataframes and sequences\r\n",
    "import numpy as np\r\n",
    "import pandas as pd \r\n",
    "import tensorflow as tf\r\n",
    "from tensorflow import keras \r\n",
    "from sklearn.compose import make_column_transformer\r\n",
    "from sklearn.preprocessing import MinMaxScaler\r\n",
    "from sklearn.model_selection import train_test_split\r\n"
   ]
  },
  {
   "cell_type": "code",
   "execution_count": 2,
   "metadata": {
    "execution": {
     "iopub.execute_input": "2021-08-25T14:17:43.732151Z",
     "iopub.status.busy": "2021-08-25T14:17:43.731426Z",
     "iopub.status.idle": "2021-08-25T14:17:43.740191Z",
     "shell.execute_reply": "2021-08-25T14:17:43.740773Z",
     "shell.execute_reply.started": "2021-08-25T13:15:00.263149Z"
    },
    "papermill": {
     "duration": 0.030129,
     "end_time": "2021-08-25T14:17:43.740962",
     "exception": false,
     "start_time": "2021-08-25T14:17:43.710833",
     "status": "completed"
    },
    "tags": []
   },
   "outputs": [],
   "source": [
    "def log_return(list_stock_prices):\r\n",
    "    return np.log(list_stock_prices).diff() \r\n",
    "\r\n",
    "def realized_volatility(series_log_return):\r\n",
    "    return np.sqrt(np.sum(series_log_return**2))\r\n",
    "\r\n",
    "def rmspe(y_true, y_pred):\r\n",
    "    return  (np.sqrt(np.mean(np.square((y_true - y_pred) / y_true))))\r\n",
    "\r\n",
    "    "
   ]
  },
  {
   "cell_type": "code",
   "execution_count": 3,
   "metadata": {
    "execution": {
     "iopub.execute_input": "2021-08-25T14:17:43.779573Z",
     "iopub.status.busy": "2021-08-25T14:17:43.778788Z",
     "iopub.status.idle": "2021-08-25T14:17:43.811686Z",
     "shell.execute_reply": "2021-08-25T14:17:43.812256Z",
     "shell.execute_reply.started": "2021-08-25T13:15:00.273982Z"
    },
    "papermill": {
     "duration": 0.054428,
     "end_time": "2021-08-25T14:17:43.812457",
     "exception": false,
     "start_time": "2021-08-25T14:17:43.758029",
     "status": "completed"
    },
    "tags": []
   },
   "outputs": [],
   "source": [
    "class DataManager:\n",
    "    \"\"\" Used for processing the input data so the model can be fitted on it. \"\"\"\n",
    "    def __init__(self, train=True):\n",
    "        self._train = train\n",
    "        self._book_file_list = TRAIN_BOOK_PATHS if train else TEST_BOOK_PATHS\n",
    "        self._trade_file_list = TRAIN_TRADE_PATHS if train else TEST_TRADE_PATHS\n",
    "        self.measures_list = []\n",
    "    \n",
    "    def _traverse_book(self):\n",
    "        \"\"\" Goes through each of the training files. \"\"\"\n",
    "        for book_file_path, trade_file_path in zip(self._book_file_list, self._trade_file_list):\n",
    "            stock_id = book_file_path.split(\"=\")[1] # Getting the stock_id\n",
    "            print(stock_id)\n",
    "            # Reading the book info and preparing it for aggregation\n",
    "            book = pd.read_parquet(book_file_path)\n",
    "            \n",
    "            book.sort_values(by=['time_id', 'seconds_in_bucket'])\n",
    "            \n",
    "            book['wap1'] = (book['bid_price1'] * book['ask_size1'] + book['ask_price1'] * book['bid_size1']) / (book['bid_size1']+ book['ask_size1'])\n",
    "            book['log_return1'] = book.groupby(['time_id'])['wap1'].apply(log_return) \n",
    "            book = book[~book['log_return1'].isnull()]\n",
    "            \n",
    "            book['wap2'] = (book['bid_price2'] * book['ask_size2'] + book['ask_price2'] * book['bid_size2']) / (book['bid_size2']+ book['ask_size2'])\n",
    "            book['log_return2'] = book.groupby(['time_id'])['wap2'].apply(log_return)\n",
    "            book = book[~book['log_return2'].isnull()]\n",
    "            \n",
    "            # Different spreads: Get the max of these for each time_id\n",
    "            book['h_spread_l1'] = book['ask_price1'] - book['bid_price1']\n",
    "            book['h_spread_l2'] = book['ask_price2'] - book['bid_price2']\n",
    "            book['v_spread_b']  = book['bid_price1'] - book['bid_price2']\n",
    "            book['v_spread_a']  = book['ask_price1'] - book['bid_price2']\n",
    "            \n",
    "            book.loc[:, 'bas'] = (book.loc[:, ('ask_price1', 'ask_price2')].min(axis = 1) / book.loc[:, ('bid_price1', 'bid_price2')].max(axis = 1) - 1) \n",
    "            \n",
    "            trade = pd.read_parquet(trade_file_path)\n",
    "            \n",
    "            # Slicing the train data based on stock_id\n",
    "            book_stock_slice = train[train['stock_id'] == int(stock_id)]\n",
    "            \n",
    "            for time_id in book['time_id'].unique():\n",
    "                book_slice = book[book['time_id'] == time_id] # Slicing based on time_id\n",
    "                trade_slice = trade[trade['time_id'] == time_id]\n",
    "                p3 = p4 = k10 = k5 = k = q5 = q10 = 1\n",
    "                if  not trade_slice.empty:\n",
    "                    trade_slice_1st = trade_slice['seconds_in_bucket'].iloc[0]\n",
    "                    trade_slice_last = trade_slice['seconds_in_bucket'].iloc[-1]\n",
    "            \n",
    "                    # Feature constrution\n",
    "                    mid_index = int(len(trade_slice['seconds_in_bucket'])/2)\n",
    "                    for i in book_slice['seconds_in_bucket']:\n",
    "                        if i <=trade_slice_1st:\n",
    "                            k = k+1\n",
    "                        if i <= 300:\n",
    "                            k5 = k5+1\n",
    "                        if i <= trade_slice_last:\n",
    "                            k10 = k10+1\n",
    "                    q10 = np.sum(np.multiply(trade_slice['order_count'],trade_slice['size']))\n",
    "                    for j in range(trade_slice.shape[0]):\n",
    "                        if trade_slice['seconds_in_bucket'].iloc[j] <= 300:\n",
    "                            q5 += trade_slice['order_count'].iloc[j]*trade_slice['size'].iloc[j]\n",
    "                    no_of_orders_in_book1 = k\n",
    "                    no_of_orders_in_book5 = k5\n",
    "                    no_of_orders_in_book10 = k10\n",
    "                    os_just_be_5 = q5\n",
    "                    os_10 = q10\n",
    "                    p1 = k5/k\n",
    "                    p2 = k10/k\n",
    "                    p3 = np.sum(book_slice['bid_size1'])/np.sum(trade_slice['order_count'])\n",
    "                    p4 = np.sum(book_slice['ask_size1'])/np.sum(trade_slice['order_count'])\n",
    "                    p5 = q10/q5\n",
    "                \n",
    "                # features\n",
    "                dic = {\n",
    "                    'stock_id' : stock_id,\n",
    "                    'time_id'  : time_id,\n",
    "                    'row_id': f\"{stock_id}-{time_id}\", # Fixing row-id from here\n",
    "                    \n",
    "                    'wap1_mean': book_slice['wap1'].mean(),\n",
    "                    'wap1_std':book_slice['wap1'].std(),\n",
    "                    'wap1_max':book_slice['wap1'].max(),\n",
    "                    \n",
    "                    'wap2_mean': book_slice['wap2'].mean(),\n",
    "                    'wap2_std':book_slice['wap2'].std(),\n",
    "                    'wap2_max':book_slice['wap2'].max(),\n",
    "\n",
    "                    'h_spread_l1_mean': book_slice['h_spread_l1'].mean(),\n",
    "                    'h_spread_l1_std': book_slice['h_spread_l1'].std(),\n",
    "                    'h_spread_l1_std': book_slice['h_spread_l1'].max(),\n",
    "                    \n",
    "                    'h_spread_l2_mean': book_slice['h_spread_l2'].mean(),\n",
    "                    'h_spread_l2_std': book_slice['h_spread_l2'].std(),\n",
    "                    'h_spread_l2_max': book_slice['h_spread_l2'].max(),\n",
    "                    \n",
    "                    'v_spread_b_mean': book_slice['v_spread_b'].mean(),\n",
    "                    'v_spread_b_std': book_slice['v_spread_b'].std(),\n",
    "                    'v_spread_b_max': book_slice['v_spread_b'].max(),\n",
    "                    \n",
    "                    'v_spread_a_mean': book_slice['v_spread_a'].mean(),\n",
    "                    'v_spread_a_std': book_slice['v_spread_a'].std(),\n",
    "                    'v_spread_a_max': book_slice['v_spread_a'].max(),\n",
    "                    \n",
    "                    'log_return1_mean': book_slice['log_return1'].mean(),\n",
    "                    'log_return1_std':book_slice['log_return1'].std(),\n",
    "                    'log_return1_max':book_slice['log_return1'].max(),\n",
    "                    \n",
    "                    'log_return2_mean': book_slice['log_return2'].mean(),\n",
    "                    'log_return2_std':book_slice['log_return2'].std(),\n",
    "                    'log_return2_max':book_slice['log_return2'].max(),\n",
    "                    \n",
    "                    'bas_mean': book_slice['bas'].mean(),\n",
    "                    'bas_std': book_slice['bas'].std(),\n",
    "                    'bas_max': book_slice['bas'].max(),\n",
    "                    \n",
    "                    'ask_size_mean': book_slice['ask_size1'].mean(),\n",
    "                    'ask_size_std': book_slice['ask_size1'].std(),\n",
    "                    \n",
    "                    'ask_price_mean': book_slice['ask_price1'].mean(),\n",
    "                    'ask_price_std': book_slice['ask_price1'].std(),\n",
    "                    \n",
    "                    'bid_size_mean': book_slice['bid_size1'].mean(),\n",
    "                    'bid_size_std': book_slice['bid_size1'].std(),\n",
    "                    \n",
    "                    'bid_price_mean': book_slice['bid_price1'].mean(),\n",
    "                    'bid_price_std': book_slice['bid_price1'].std(),\n",
    "                    \n",
    "                    'order_count_mean': trade_slice['order_count'].mean(),\n",
    "                    'order_count_std': trade_slice['order_count'].std(),\n",
    "                    \n",
    "                    'orders_time_book5' : p1,\n",
    "                    'orders_time_book10' : p2,\n",
    "                    \n",
    "                    'ratio_bid_count' :p3,\n",
    "                    'ratio_ask_count' :p4,\n",
    "                    \n",
    "                    'order_size_time_trade' :p5\n",
    "                }\n",
    "                \n",
    "                # Note: When getting the test_data ready, there is no target column.\n",
    "                if self._train: dic['target'] = book_stock_slice[book_stock_slice['time_id'] == time_id]['target'].values[0]\n",
    "                \n",
    "                self.measures_list.append(dic)\n",
    "            \n",
    "            \n",
    "    def get_processed(self):\n",
    "        \"\"\" Returns the processed the data. \"\"\"\n",
    "        self._traverse_book() \n",
    "        \n",
    "        return pd.DataFrame(self.measures_list)"
   ]
  },
  {
   "cell_type": "markdown",
   "metadata": {
    "papermill": {
     "duration": 0.016921,
     "end_time": "2021-08-25T14:17:43.846499",
     "exception": false,
     "start_time": "2021-08-25T14:17:43.829578",
     "status": "completed"
    },
    "tags": []
   },
   "source": [
    "<a href=\"./train_sp2.csv\"> Download File </a>"
   ]
  },
  {
   "cell_type": "code",
   "execution_count": 4,
   "metadata": {
    "execution": {
     "iopub.execute_input": "2021-08-25T14:17:43.884460Z",
     "iopub.status.busy": "2021-08-25T14:17:43.883789Z",
     "iopub.status.idle": "2021-08-25T14:17:43.886920Z",
     "shell.execute_reply": "2021-08-25T14:17:43.887586Z",
     "shell.execute_reply.started": "2021-07-24T04:59:34.171349Z"
    },
    "papermill": {
     "duration": 0.023814,
     "end_time": "2021-08-25T14:17:43.887780",
     "exception": false,
     "start_time": "2021-08-25T14:17:43.863966",
     "status": "completed"
    },
    "tags": []
   },
   "outputs": [],
   "source": [
    "#feature preposs\n",
    "#bookma = DataManager().get_processed()\n",
    "#bookma.to_csv('/kaggle/working/train_sp2.csv', index=False)"
   ]
  },
  {
   "cell_type": "code",
   "execution_count": 5,
   "metadata": {
    "execution": {
     "iopub.execute_input": "2021-08-25T14:17:43.925961Z",
     "iopub.status.busy": "2021-08-25T14:17:43.925271Z",
     "iopub.status.idle": "2021-08-25T14:17:54.913980Z",
     "shell.execute_reply": "2021-08-25T14:17:54.913392Z",
     "shell.execute_reply.started": "2021-08-25T13:15:06.506979Z"
    },
    "papermill": {
     "duration": 11.008422,
     "end_time": "2021-08-25T14:17:54.914127",
     "exception": false,
     "start_time": "2021-08-25T14:17:43.905705",
     "status": "completed"
    },
    "tags": []
   },
   "outputs": [
    {
     "name": "stdout",
     "output_type": "stream",
     "text": [
      "0\n"
     ]
    }
   ],
   "source": [
    "data = pd.read_csv('../input/fea-preposs2/train_sp2.csv')\n",
    "test_data = DataManager(train=False).get_processed()\n",
    "\n",
    "data1 = data.drop(['row_id'], axis=1)\n",
    "data2 = test_data.drop(['row_id'],axis= 1)\n",
    "\n",
    "# Min-Max Scaling the data for better models\n",
    "for col_name in data1.columns[1:-1]:\n",
    "    data2[col_name] = (data2[col_name] - data1[col_name].min()) / (data1[col_name].max() - data1[col_name].min())\n",
    "    data1[col_name] = (data1[col_name] - data1[col_name].min()) / (data1[col_name].max() - data1[col_name].min())\n"
   ]
  },
  {
   "cell_type": "code",
   "execution_count": 6,
   "metadata": {
    "execution": {
     "iopub.execute_input": "2021-08-25T14:17:55.017494Z",
     "iopub.status.busy": "2021-08-25T14:17:55.016500Z",
     "iopub.status.idle": "2021-08-25T14:17:55.361920Z",
     "shell.execute_reply": "2021-08-25T14:17:55.362428Z",
     "shell.execute_reply.started": "2021-08-25T13:15:14.696405Z"
    },
    "papermill": {
     "duration": 0.428797,
     "end_time": "2021-08-25T14:17:55.362619",
     "exception": false,
     "start_time": "2021-08-25T14:17:54.933822",
     "status": "completed"
    },
    "tags": []
   },
   "outputs": [],
   "source": [
    "\n",
    "#Training Data\n",
    "X, y =  data1.iloc[:,:-4], data1['target']\n",
    "\n",
    "#Test Data\n",
    "X_test = data2.iloc[:,:-3]\n",
    "\n",
    "#Getting training and validations plits to check for overfitting\n",
    "X_train, X_val, y_train, y_val = train_test_split(X, y, test_size=0.1, random_state=42)"
   ]
  },
  {
   "cell_type": "code",
   "execution_count": 7,
   "metadata": {
    "execution": {
     "iopub.execute_input": "2021-08-25T14:17:55.400586Z",
     "iopub.status.busy": "2021-08-25T14:17:55.399868Z",
     "iopub.status.idle": "2021-08-25T14:17:55.563039Z",
     "shell.execute_reply": "2021-08-25T14:17:55.563556Z",
     "shell.execute_reply.started": "2021-08-25T13:15:25.575231Z"
    },
    "papermill": {
     "duration": 0.183681,
     "end_time": "2021-08-25T14:17:55.563764",
     "exception": false,
     "start_time": "2021-08-25T14:17:55.380083",
     "status": "completed"
    },
    "tags": []
   },
   "outputs": [],
   "source": [
    "data1.fillna(method = 'pad', inplace = True)"
   ]
  },
  {
   "cell_type": "code",
   "execution_count": 8,
   "metadata": {
    "execution": {
     "iopub.execute_input": "2021-08-25T14:17:55.601903Z",
     "iopub.status.busy": "2021-08-25T14:17:55.601156Z",
     "iopub.status.idle": "2021-08-25T14:17:55.610209Z",
     "shell.execute_reply": "2021-08-25T14:17:55.609468Z",
     "shell.execute_reply.started": "2021-08-25T13:16:54.233137Z"
    },
    "papermill": {
     "duration": 0.02921,
     "end_time": "2021-08-25T14:17:55.610391",
     "exception": false,
     "start_time": "2021-08-25T14:17:55.581181",
     "status": "completed"
    },
    "tags": []
   },
   "outputs": [],
   "source": [
    "def Build_model():\n",
    "    fea_input = keras.Input(shape = (39,), name = 'one_timeid')\n",
    "    out = keras.layers.Dense(128,activation='tanh')(fea_input)\n",
    "    out = keras.layers.Dense(64,activation='tanh')(out)\n",
    "    out = keras.layers.Dense(32,activation='tanh')(out)\n",
    "    out = keras.layers.Dense(16,activation='tanh')(out)\n",
    "    out = keras.layers.Dense(8,activation='tanh')(out)\n",
    "    out = keras.layers.Dense(2,activation='tanh')(out)\n",
    "    out = keras.layers.Dense(1)(out)\n",
    "     \n",
    "    model = keras.Model(\n",
    "    inputs = [fea_input],\n",
    "    outputs = out\n",
    "    )\n",
    "    \n",
    "    return model\n"
   ]
  },
  {
   "cell_type": "code",
   "execution_count": 9,
   "metadata": {
    "execution": {
     "iopub.execute_input": "2021-08-25T14:17:55.650278Z",
     "iopub.status.busy": "2021-08-25T14:17:55.649626Z",
     "iopub.status.idle": "2021-08-25T14:17:55.662600Z",
     "shell.execute_reply": "2021-08-25T14:17:55.661807Z",
     "shell.execute_reply.started": "2021-08-25T13:15:27.071077Z"
    },
    "papermill": {
     "duration": 0.034979,
     "end_time": "2021-08-25T14:17:55.662815",
     "exception": false,
     "start_time": "2021-08-25T14:17:55.627836",
     "status": "completed"
    },
    "tags": []
   },
   "outputs": [
    {
     "name": "stderr",
     "output_type": "stream",
     "text": [
      "/opt/conda/lib/python3.7/site-packages/pandas/core/frame.py:4468: SettingWithCopyWarning: \n",
      "A value is trying to be set on a copy of a slice from a DataFrame\n",
      "\n",
      "See the caveats in the documentation: https://pandas.pydata.org/pandas-docs/stable/user_guide/indexing.html#returning-a-view-versus-a-copy\n",
      "  downcast=downcast,\n"
     ]
    }
   ],
   "source": [
    "X_val.fillna(method ='pad',inplace = True)"
   ]
  },
  {
   "cell_type": "code",
   "execution_count": 10,
   "metadata": {
    "execution": {
     "iopub.execute_input": "2021-08-25T14:17:55.706663Z",
     "iopub.status.busy": "2021-08-25T14:17:55.705994Z",
     "iopub.status.idle": "2021-08-25T14:17:55.711521Z",
     "shell.execute_reply": "2021-08-25T14:17:55.710905Z",
     "shell.execute_reply.started": "2021-08-25T13:15:27.948203Z"
    },
    "papermill": {
     "duration": 0.030106,
     "end_time": "2021-08-25T14:17:55.711682",
     "exception": false,
     "start_time": "2021-08-25T14:17:55.681576",
     "status": "completed"
    },
    "tags": []
   },
   "outputs": [],
   "source": [
    "\n",
    "X_test.fillna(0.0012,inplace = True)"
   ]
  },
  {
   "cell_type": "code",
   "execution_count": 11,
   "metadata": {
    "execution": {
     "iopub.execute_input": "2021-08-25T14:17:55.752095Z",
     "iopub.status.busy": "2021-08-25T14:17:55.751080Z",
     "iopub.status.idle": "2021-08-25T14:17:55.788782Z",
     "shell.execute_reply": "2021-08-25T14:17:55.789334Z",
     "shell.execute_reply.started": "2021-08-25T13:15:29.421454Z"
    },
    "papermill": {
     "duration": 0.060114,
     "end_time": "2021-08-25T14:17:55.789539",
     "exception": false,
     "start_time": "2021-08-25T14:17:55.729425",
     "status": "completed"
    },
    "tags": []
   },
   "outputs": [],
   "source": [
    "X_train.fillna(method ='pad',inplace = True)\n"
   ]
  },
  {
   "cell_type": "code",
   "execution_count": 12,
   "metadata": {
    "execution": {
     "iopub.execute_input": "2021-08-25T14:17:55.829285Z",
     "iopub.status.busy": "2021-08-25T14:17:55.828061Z",
     "iopub.status.idle": "2021-08-25T14:17:55.978104Z",
     "shell.execute_reply": "2021-08-25T14:17:55.977337Z",
     "shell.execute_reply.started": "2021-08-25T13:15:30.032286Z"
    },
    "papermill": {
     "duration": 0.171078,
     "end_time": "2021-08-25T14:17:55.978291",
     "exception": false,
     "start_time": "2021-08-25T14:17:55.807213",
     "status": "completed"
    },
    "tags": []
   },
   "outputs": [
    {
     "name": "stdout",
     "output_type": "stream",
     "text": [
      "Model: \"model\"\n",
      "_________________________________________________________________\n",
      "Layer (type)                 Output Shape              Param #   \n",
      "=================================================================\n",
      "one_timeid (InputLayer)      [(None, 39)]              0         \n",
      "_________________________________________________________________\n",
      "dense (Dense)                (None, 128)               5120      \n",
      "_________________________________________________________________\n",
      "dense_1 (Dense)              (None, 64)                8256      \n",
      "_________________________________________________________________\n",
      "dense_2 (Dense)              (None, 32)                2080      \n",
      "_________________________________________________________________\n",
      "dense_3 (Dense)              (None, 16)                528       \n",
      "_________________________________________________________________\n",
      "dense_4 (Dense)              (None, 8)                 136       \n",
      "_________________________________________________________________\n",
      "dense_5 (Dense)              (None, 2)                 18        \n",
      "_________________________________________________________________\n",
      "dense_6 (Dense)              (None, 1)                 3         \n",
      "=================================================================\n",
      "Total params: 16,141\n",
      "Trainable params: 16,141\n",
      "Non-trainable params: 0\n",
      "_________________________________________________________________\n"
     ]
    }
   ],
   "source": [
    "model = Build_model()\n",
    "model.summary()"
   ]
  },
  {
   "cell_type": "code",
   "execution_count": 13,
   "metadata": {
    "execution": {
     "iopub.execute_input": "2021-08-25T14:17:56.022719Z",
     "iopub.status.busy": "2021-08-25T14:17:56.021995Z",
     "iopub.status.idle": "2021-08-25T14:17:56.025310Z",
     "shell.execute_reply": "2021-08-25T14:17:56.024794Z",
     "shell.execute_reply.started": "2021-08-25T13:27:01.00604Z"
    },
    "papermill": {
     "duration": 0.028177,
     "end_time": "2021-08-25T14:17:56.025477",
     "exception": false,
     "start_time": "2021-08-25T14:17:55.997300",
     "status": "completed"
    },
    "tags": []
   },
   "outputs": [],
   "source": [
    "Earl_stop = tf.keras.callbacks.EarlyStopping(monitor='val_loss', \n",
    "                                             patience=10, \n",
    "                                             verbose=1,\n",
    "                                             mode='min')\n",
    "\n",
    "lrc = reduce_lr =  tf.keras.callbacks.ReduceLROnPlateau(monitor='val_loss', \n",
    "                                                        factor=0.5,\n",
    "                                                        patience=5, \n",
    "                                                        min_lr=0.000001, \n",
    "                                                        verbose=1,\n",
    "                                                        mode='min')"
   ]
  },
  {
   "cell_type": "code",
   "execution_count": 14,
   "metadata": {
    "execution": {
     "iopub.execute_input": "2021-08-25T14:17:56.072673Z",
     "iopub.status.busy": "2021-08-25T14:17:56.071978Z",
     "iopub.status.idle": "2021-08-25T14:21:06.527876Z",
     "shell.execute_reply": "2021-08-25T14:21:06.528343Z",
     "shell.execute_reply.started": "2021-08-25T13:27:01.760757Z"
    },
    "papermill": {
     "duration": 190.484974,
     "end_time": "2021-08-25T14:21:06.528560",
     "exception": false,
     "start_time": "2021-08-25T14:17:56.043586",
     "status": "completed"
    },
    "tags": []
   },
   "outputs": [
    {
     "name": "stdout",
     "output_type": "stream",
     "text": [
      "Epoch 1/1000\n",
      "377/377 [==============================] - 3s 7ms/step - loss: 7669.6082 - MSE: 0.0348 - val_loss: 0.3886 - val_MSE: 1.5826e-05\n",
      "Epoch 2/1000\n",
      "377/377 [==============================] - 2s 5ms/step - loss: 0.3823 - MSE: 1.5317e-05 - val_loss: 0.3684 - val_MSE: 1.4883e-05\n",
      "Epoch 3/1000\n",
      "377/377 [==============================] - 2s 5ms/step - loss: 0.3627 - MSE: 1.4686e-05 - val_loss: 0.3595 - val_MSE: 1.3318e-05\n",
      "Epoch 4/1000\n",
      "377/377 [==============================] - 2s 5ms/step - loss: 0.3490 - MSE: 1.4185e-05 - val_loss: 0.3299 - val_MSE: 1.3510e-05\n",
      "Epoch 5/1000\n",
      "377/377 [==============================] - 2s 5ms/step - loss: 0.3264 - MSE: 1.3354e-05 - val_loss: 0.3074 - val_MSE: 1.2519e-05\n",
      "Epoch 6/1000\n",
      "377/377 [==============================] - 2s 5ms/step - loss: 0.3013 - MSE: 1.2299e-05 - val_loss: 0.3004 - val_MSE: 9.9942e-06\n",
      "Epoch 7/1000\n",
      "377/377 [==============================] - 2s 5ms/step - loss: 0.2755 - MSE: 1.0793e-05 - val_loss: 0.2256 - val_MSE: 9.0928e-06\n",
      "Epoch 8/1000\n",
      "377/377 [==============================] - 2s 5ms/step - loss: 0.2208 - MSE: 8.1812e-06 - val_loss: 0.1532 - val_MSE: 5.6347e-06\n",
      "Epoch 9/1000\n",
      "377/377 [==============================] - 2s 5ms/step - loss: 0.1521 - MSE: 5.1034e-06 - val_loss: 0.1231 - val_MSE: 3.4584e-06\n",
      "Epoch 10/1000\n",
      "377/377 [==============================] - 2s 5ms/step - loss: 0.1499 - MSE: 3.8064e-06 - val_loss: 0.6037 - val_MSE: 7.8187e-06\n",
      "Epoch 11/1000\n",
      "377/377 [==============================] - 2s 5ms/step - loss: 4.1916 - MSE: 2.3554e-05 - val_loss: 0.1342 - val_MSE: 5.0906e-06\n",
      "Epoch 12/1000\n",
      "377/377 [==============================] - 2s 5ms/step - loss: 0.2306 - MSE: 4.8436e-06 - val_loss: 1.7082 - val_MSE: 6.0434e-06\n",
      "Epoch 13/1000\n",
      "377/377 [==============================] - 2s 5ms/step - loss: 1.7805 - MSE: 1.2861e-05 - val_loss: 1.1838 - val_MSE: 1.5358e-05\n",
      "Epoch 14/1000\n",
      "377/377 [==============================] - 2s 5ms/step - loss: 3.7785 - MSE: 2.2527e-05 - val_loss: 0.1259 - val_MSE: 4.9355e-06\n",
      "\n",
      "Epoch 00014: ReduceLROnPlateau reducing learning rate to 0.004999999888241291.\n",
      "Epoch 15/1000\n",
      "377/377 [==============================] - 2s 6ms/step - loss: 0.1251 - MSE: 4.1965e-06 - val_loss: 0.1595 - val_MSE: 4.4641e-06\n",
      "Epoch 16/1000\n",
      "377/377 [==============================] - 2s 5ms/step - loss: 0.1297 - MSE: 3.6281e-06 - val_loss: 0.1097 - val_MSE: 3.2615e-06\n",
      "Epoch 17/1000\n",
      "377/377 [==============================] - 2s 5ms/step - loss: 0.1640 - MSE: 3.8177e-06 - val_loss: 0.1082 - val_MSE: 3.5786e-06\n",
      "Epoch 18/1000\n",
      "377/377 [==============================] - 2s 5ms/step - loss: 0.3520 - MSE: 4.7406e-06 - val_loss: 0.1331 - val_MSE: 4.6432e-06\n",
      "Epoch 19/1000\n",
      "377/377 [==============================] - 2s 5ms/step - loss: 0.3545 - MSE: 5.0022e-06 - val_loss: 0.1363 - val_MSE: 3.4984e-06\n",
      "Epoch 20/1000\n",
      "377/377 [==============================] - 2s 5ms/step - loss: 0.5106 - MSE: 5.7895e-06 - val_loss: 0.2819 - val_MSE: 3.0472e-06\n",
      "Epoch 21/1000\n",
      "377/377 [==============================] - 2s 5ms/step - loss: 0.6823 - MSE: 6.4935e-06 - val_loss: 0.3134 - val_MSE: 3.0273e-06\n",
      "Epoch 22/1000\n",
      "377/377 [==============================] - 2s 6ms/step - loss: 0.6536 - MSE: 6.3345e-06 - val_loss: 0.1805 - val_MSE: 2.8704e-06\n",
      "\n",
      "Epoch 00022: ReduceLROnPlateau reducing learning rate to 0.0024999999441206455.\n",
      "Epoch 23/1000\n",
      "377/377 [==============================] - 2s 5ms/step - loss: 0.1089 - MSE: 3.5179e-06 - val_loss: 0.1190 - val_MSE: 3.8346e-06\n",
      "Epoch 24/1000\n",
      "377/377 [==============================] - 2s 6ms/step - loss: 0.1041 - MSE: 3.5370e-06 - val_loss: 0.1070 - val_MSE: 3.1473e-06\n",
      "Epoch 25/1000\n",
      "377/377 [==============================] - 2s 6ms/step - loss: 0.1138 - MSE: 3.5425e-06 - val_loss: 0.1015 - val_MSE: 3.2436e-06\n",
      "Epoch 26/1000\n",
      "377/377 [==============================] - 2s 5ms/step - loss: 0.2626 - MSE: 4.2595e-06 - val_loss: 0.1156 - val_MSE: 2.9845e-06\n",
      "Epoch 27/1000\n",
      "377/377 [==============================] - 2s 5ms/step - loss: 0.3012 - MSE: 4.4205e-06 - val_loss: 0.0995 - val_MSE: 3.5473e-06\n",
      "Epoch 28/1000\n",
      "377/377 [==============================] - 2s 5ms/step - loss: 0.1717 - MSE: 3.7090e-06 - val_loss: 0.1179 - val_MSE: 2.8879e-06\n",
      "Epoch 29/1000\n",
      "377/377 [==============================] - 2s 6ms/step - loss: 0.1765 - MSE: 3.7465e-06 - val_loss: 0.1358 - val_MSE: 4.1205e-06\n",
      "Epoch 30/1000\n",
      "377/377 [==============================] - 2s 5ms/step - loss: 0.1837 - MSE: 3.7493e-06 - val_loss: 0.1630 - val_MSE: 2.7754e-06\n",
      "Epoch 31/1000\n",
      "377/377 [==============================] - 2s 6ms/step - loss: 0.1614 - MSE: 3.7518e-06 - val_loss: 0.1049 - val_MSE: 3.7810e-06\n",
      "Epoch 32/1000\n",
      "377/377 [==============================] - 2s 6ms/step - loss: 0.2955 - MSE: 4.3847e-06 - val_loss: 0.2947 - val_MSE: 5.8570e-06\n",
      "\n",
      "Epoch 00032: ReduceLROnPlateau reducing learning rate to 0.0012499999720603228.\n",
      "Epoch 33/1000\n",
      "377/377 [==============================] - 2s 6ms/step - loss: 0.1146 - MSE: 3.4152e-06 - val_loss: 0.0947 - val_MSE: 3.1429e-06\n",
      "Epoch 34/1000\n",
      "377/377 [==============================] - 2s 6ms/step - loss: 0.0973 - MSE: 3.3306e-06 - val_loss: 0.0935 - val_MSE: 3.1215e-06\n",
      "Epoch 35/1000\n",
      "377/377 [==============================] - 2s 6ms/step - loss: 0.0966 - MSE: 3.2385e-06 - val_loss: 0.1180 - val_MSE: 2.7551e-06\n",
      "Epoch 36/1000\n",
      "377/377 [==============================] - 2s 6ms/step - loss: 0.1213 - MSE: 3.3501e-06 - val_loss: 0.0956 - val_MSE: 3.2329e-06\n",
      "Epoch 37/1000\n",
      "377/377 [==============================] - 2s 6ms/step - loss: 0.1290 - MSE: 3.3123e-06 - val_loss: 0.1150 - val_MSE: 2.7350e-06\n",
      "Epoch 38/1000\n",
      "377/377 [==============================] - 2s 5ms/step - loss: 0.1749 - MSE: 3.5454e-06 - val_loss: 0.1264 - val_MSE: 3.6387e-06\n",
      "Epoch 39/1000\n",
      "377/377 [==============================] - 2s 5ms/step - loss: 0.1830 - MSE: 3.5119e-06 - val_loss: 0.6914 - val_MSE: 3.4692e-06\n",
      "\n",
      "Epoch 00039: ReduceLROnPlateau reducing learning rate to 0.0006249999860301614.\n",
      "Epoch 40/1000\n",
      "377/377 [==============================] - 2s 5ms/step - loss: 0.1252 - MSE: 3.2047e-06 - val_loss: 0.0897 - val_MSE: 3.0188e-06\n",
      "Epoch 41/1000\n",
      "377/377 [==============================] - 2s 6ms/step - loss: 0.0926 - MSE: 3.0034e-06 - val_loss: 0.0893 - val_MSE: 3.0567e-06\n",
      "Epoch 42/1000\n",
      "377/377 [==============================] - 2s 5ms/step - loss: 0.0924 - MSE: 3.0502e-06 - val_loss: 0.1060 - val_MSE: 3.3971e-06\n",
      "Epoch 43/1000\n",
      "377/377 [==============================] - 2s 5ms/step - loss: 0.0953 - MSE: 3.0154e-06 - val_loss: 0.1145 - val_MSE: 2.5399e-06\n",
      "Epoch 44/1000\n",
      "377/377 [==============================] - 2s 5ms/step - loss: 0.0967 - MSE: 2.9961e-06 - val_loss: 0.0868 - val_MSE: 2.9935e-06\n",
      "Epoch 45/1000\n",
      "377/377 [==============================] - 2s 5ms/step - loss: 0.0990 - MSE: 3.0071e-06 - val_loss: 0.0882 - val_MSE: 2.9620e-06\n",
      "Epoch 46/1000\n",
      "377/377 [==============================] - 2s 5ms/step - loss: 0.1054 - MSE: 3.0606e-06 - val_loss: 0.0867 - val_MSE: 2.9346e-06\n",
      "Epoch 47/1000\n",
      "377/377 [==============================] - 2s 6ms/step - loss: 0.0939 - MSE: 2.8958e-06 - val_loss: 0.0875 - val_MSE: 2.6080e-06\n",
      "Epoch 48/1000\n",
      "377/377 [==============================] - 2s 5ms/step - loss: 0.1035 - MSE: 2.9776e-06 - val_loss: 0.0874 - val_MSE: 2.9778e-06\n",
      "Epoch 49/1000\n",
      "377/377 [==============================] - 2s 5ms/step - loss: 0.0970 - MSE: 2.9472e-06 - val_loss: 0.2917 - val_MSE: 4.8632e-06\n",
      "Epoch 50/1000\n",
      "377/377 [==============================] - 2s 5ms/step - loss: 0.1080 - MSE: 2.9904e-06 - val_loss: 0.0927 - val_MSE: 3.0757e-06\n",
      "Epoch 51/1000\n",
      "377/377 [==============================] - 2s 6ms/step - loss: 0.1027 - MSE: 2.9608e-06 - val_loss: 0.0833 - val_MSE: 2.6100e-06\n",
      "Epoch 52/1000\n",
      "377/377 [==============================] - 2s 5ms/step - loss: 0.0923 - MSE: 2.9112e-06 - val_loss: 0.0826 - val_MSE: 2.7419e-06\n",
      "Epoch 53/1000\n",
      "377/377 [==============================] - 2s 5ms/step - loss: 0.0934 - MSE: 2.8886e-06 - val_loss: 0.0894 - val_MSE: 3.1300e-06\n",
      "Epoch 54/1000\n",
      "377/377 [==============================] - 2s 5ms/step - loss: 0.1003 - MSE: 2.9586e-06 - val_loss: 0.0822 - val_MSE: 2.6817e-06\n",
      "Epoch 55/1000\n",
      "377/377 [==============================] - 2s 5ms/step - loss: 0.0979 - MSE: 2.8930e-06 - val_loss: 0.0812 - val_MSE: 2.6546e-06\n",
      "Epoch 56/1000\n",
      "377/377 [==============================] - 2s 5ms/step - loss: 0.1077 - MSE: 2.9649e-06 - val_loss: 0.1005 - val_MSE: 2.4775e-06\n",
      "Epoch 57/1000\n",
      "377/377 [==============================] - 2s 5ms/step - loss: 0.0935 - MSE: 2.8554e-06 - val_loss: 0.0867 - val_MSE: 2.5988e-06\n",
      "Epoch 58/1000\n",
      "377/377 [==============================] - 2s 6ms/step - loss: 0.0940 - MSE: 2.8777e-06 - val_loss: 0.0818 - val_MSE: 2.7996e-06\n",
      "Epoch 59/1000\n",
      "377/377 [==============================] - 2s 5ms/step - loss: 0.1050 - MSE: 2.9618e-06 - val_loss: 0.1208 - val_MSE: 2.4462e-06\n",
      "Epoch 60/1000\n",
      "377/377 [==============================] - 2s 6ms/step - loss: 0.1064 - MSE: 2.9433e-06 - val_loss: 0.0803 - val_MSE: 2.8329e-06\n",
      "Epoch 61/1000\n",
      "377/377 [==============================] - 2s 6ms/step - loss: 0.0942 - MSE: 2.8546e-06 - val_loss: 0.0885 - val_MSE: 2.4065e-06\n",
      "Epoch 62/1000\n",
      "377/377 [==============================] - 2s 5ms/step - loss: 0.0977 - MSE: 2.8794e-06 - val_loss: 0.1179 - val_MSE: 2.4218e-06\n",
      "Epoch 63/1000\n",
      "377/377 [==============================] - 2s 5ms/step - loss: 0.1085 - MSE: 2.9300e-06 - val_loss: 0.0935 - val_MSE: 3.0844e-06\n",
      "Epoch 64/1000\n",
      "377/377 [==============================] - 2s 6ms/step - loss: 0.0925 - MSE: 2.8088e-06 - val_loss: 0.0792 - val_MSE: 2.7544e-06\n",
      "Epoch 65/1000\n",
      "377/377 [==============================] - 2s 6ms/step - loss: 0.1078 - MSE: 2.8926e-06 - val_loss: 0.0852 - val_MSE: 2.8472e-06\n",
      "Epoch 66/1000\n",
      "377/377 [==============================] - 2s 6ms/step - loss: 0.0955 - MSE: 2.8477e-06 - val_loss: 0.0885 - val_MSE: 3.0748e-06\n",
      "Epoch 67/1000\n",
      "377/377 [==============================] - 2s 6ms/step - loss: 0.1069 - MSE: 2.8535e-06 - val_loss: 0.0789 - val_MSE: 2.6058e-06\n",
      "Epoch 68/1000\n",
      "377/377 [==============================] - 2s 5ms/step - loss: 0.0874 - MSE: 2.7571e-06 - val_loss: 0.0780 - val_MSE: 2.6390e-06\n",
      "Epoch 69/1000\n",
      "377/377 [==============================] - 2s 5ms/step - loss: 0.1037 - MSE: 2.8438e-06 - val_loss: 0.0797 - val_MSE: 2.7054e-06\n",
      "Epoch 70/1000\n",
      "377/377 [==============================] - 2s 6ms/step - loss: 0.0925 - MSE: 2.7680e-06 - val_loss: 0.0883 - val_MSE: 3.0753e-06\n",
      "Epoch 71/1000\n",
      "377/377 [==============================] - 2s 6ms/step - loss: 0.1007 - MSE: 2.8252e-06 - val_loss: 0.0890 - val_MSE: 2.4735e-06\n",
      "Epoch 72/1000\n",
      "377/377 [==============================] - 2s 6ms/step - loss: 0.0877 - MSE: 2.7575e-06 - val_loss: 0.1036 - val_MSE: 2.4121e-06\n",
      "Epoch 73/1000\n",
      "377/377 [==============================] - 2s 5ms/step - loss: 0.0927 - MSE: 2.7948e-06 - val_loss: 0.0977 - val_MSE: 2.4905e-06\n",
      "\n",
      "Epoch 00073: ReduceLROnPlateau reducing learning rate to 0.0003124999930150807.\n",
      "Epoch 74/1000\n",
      "377/377 [==============================] - 2s 5ms/step - loss: 0.0791 - MSE: 2.6889e-06 - val_loss: 0.0780 - val_MSE: 2.4962e-06\n",
      "Epoch 75/1000\n",
      "377/377 [==============================] - 2s 6ms/step - loss: 0.0774 - MSE: 2.6808e-06 - val_loss: 0.0762 - val_MSE: 2.6039e-06\n",
      "Epoch 76/1000\n",
      "377/377 [==============================] - 2s 5ms/step - loss: 0.0802 - MSE: 2.6755e-06 - val_loss: 0.0776 - val_MSE: 2.5055e-06\n",
      "Epoch 77/1000\n",
      "377/377 [==============================] - 2s 5ms/step - loss: 0.0807 - MSE: 2.6892e-06 - val_loss: 0.0870 - val_MSE: 2.8693e-06\n",
      "Epoch 78/1000\n",
      "377/377 [==============================] - 2s 5ms/step - loss: 0.0801 - MSE: 2.6803e-06 - val_loss: 0.1032 - val_MSE: 3.2116e-06\n",
      "Epoch 79/1000\n",
      "377/377 [==============================] - 2s 5ms/step - loss: 0.0819 - MSE: 2.6956e-06 - val_loss: 0.0822 - val_MSE: 3.0174e-06\n",
      "Epoch 80/1000\n",
      "377/377 [==============================] - 2s 6ms/step - loss: 0.0800 - MSE: 2.7560e-06 - val_loss: 0.0760 - val_MSE: 2.5870e-06\n",
      "Epoch 81/1000\n",
      "377/377 [==============================] - 2s 5ms/step - loss: 0.0798 - MSE: 2.7072e-06 - val_loss: 0.0869 - val_MSE: 2.3933e-06\n",
      "Epoch 82/1000\n",
      "377/377 [==============================] - 2s 5ms/step - loss: 0.0794 - MSE: 2.6662e-06 - val_loss: 0.0782 - val_MSE: 2.6962e-06\n",
      "Epoch 83/1000\n",
      "377/377 [==============================] - 2s 5ms/step - loss: 0.0803 - MSE: 2.6932e-06 - val_loss: 0.0756 - val_MSE: 2.7012e-06\n",
      "Epoch 84/1000\n",
      "377/377 [==============================] - 2s 5ms/step - loss: 0.0857 - MSE: 2.7308e-06 - val_loss: 0.0816 - val_MSE: 2.7979e-06\n",
      "Epoch 85/1000\n",
      "377/377 [==============================] - 2s 5ms/step - loss: 0.0857 - MSE: 2.6946e-06 - val_loss: 0.0759 - val_MSE: 2.5477e-06\n",
      "Epoch 86/1000\n",
      "377/377 [==============================] - 2s 5ms/step - loss: 0.0783 - MSE: 2.6774e-06 - val_loss: 0.0818 - val_MSE: 2.8977e-06\n",
      "Epoch 87/1000\n",
      "377/377 [==============================] - 2s 5ms/step - loss: 0.0868 - MSE: 2.7359e-06 - val_loss: 0.0785 - val_MSE: 2.5832e-06\n",
      "Epoch 88/1000\n",
      "377/377 [==============================] - 2s 5ms/step - loss: 0.0826 - MSE: 2.6995e-06 - val_loss: 0.0833 - val_MSE: 2.5310e-06\n",
      "\n",
      "Epoch 00088: ReduceLROnPlateau reducing learning rate to 0.00015624999650754035.\n",
      "Epoch 89/1000\n",
      "377/377 [==============================] - 2s 5ms/step - loss: 0.0759 - MSE: 2.6206e-06 - val_loss: 0.0765 - val_MSE: 2.6198e-06\n",
      "Epoch 90/1000\n",
      "377/377 [==============================] - 2s 5ms/step - loss: 0.0751 - MSE: 2.6615e-06 - val_loss: 0.0763 - val_MSE: 2.5564e-06\n",
      "Epoch 91/1000\n",
      "377/377 [==============================] - 2s 6ms/step - loss: 0.0758 - MSE: 2.6426e-06 - val_loss: 0.0768 - val_MSE: 2.5494e-06\n",
      "Epoch 92/1000\n",
      "377/377 [==============================] - 2s 5ms/step - loss: 0.0765 - MSE: 2.6216e-06 - val_loss: 0.0887 - val_MSE: 3.0217e-06\n",
      "Epoch 93/1000\n",
      "377/377 [==============================] - 2s 5ms/step - loss: 0.0770 - MSE: 2.7127e-06 - val_loss: 0.0844 - val_MSE: 2.5372e-06\n",
      "\n",
      "Epoch 00093: ReduceLROnPlateau reducing learning rate to 7.812499825377017e-05.\n",
      "Epoch 00093: early stopping\n"
     ]
    },
    {
     "data": {
      "text/plain": [
       "<tensorflow.python.keras.callbacks.History at 0x7ffaaecb7590>"
      ]
     },
     "execution_count": 14,
     "metadata": {},
     "output_type": "execute_result"
    }
   ],
   "source": [
    "    model = Build_model()\n",
    "    \n",
    "    model.compile(\n",
    "        keras.optimizers.Adam(learning_rate=0.01),\n",
    "        loss=tf.keras.metrics.mean_squared_error,\n",
    "        metrics=['MSE']\n",
    "    )\n",
    "\n",
    "\n",
    "    fea_data = X_train.iloc[:,1:]\n",
    "    stock_data1 = X_train['stock_id']\n",
    "    target =  y_train\n",
    "    stock_data2 = X_val['stock_id']\n",
    "    fea_data2 = X_val.iloc[:,1:]\n",
    "    \n",
    "    fea_data_test = X_test.iloc[:,1:]\n",
    "    stock_data_test = test_data['stock_id']\n",
    "\n",
    "    model.fit(fea_data, \n",
    "              target, \n",
    "              sample_weight = 1/np.square(target),\n",
    "              batch_size=1024,\n",
    "              epochs=1000,\n",
    "              validation_data=(fea_data2, y_val, 1/np.square(y_val)),\n",
    "              callbacks=[Earl_stop, lrc],\n",
    "              shuffle=True,\n",
    "             verbose = 1)\n"
   ]
  },
  {
   "cell_type": "code",
   "execution_count": 15,
   "metadata": {
    "execution": {
     "iopub.execute_input": "2021-08-25T14:21:08.738809Z",
     "iopub.status.busy": "2021-08-25T14:21:08.738101Z",
     "iopub.status.idle": "2021-08-25T14:21:08.755401Z",
     "shell.execute_reply": "2021-08-25T14:21:08.755914Z",
     "shell.execute_reply.started": "2021-08-25T13:37:19.003791Z"
    },
    "papermill": {
     "duration": 1.097972,
     "end_time": "2021-08-25T14:21:08.756098",
     "exception": false,
     "start_time": "2021-08-25T14:21:07.658126",
     "status": "completed"
    },
    "tags": []
   },
   "outputs": [
    {
     "data": {
      "text/html": [
       "<div>\n",
       "<style scoped>\n",
       "    .dataframe tbody tr th:only-of-type {\n",
       "        vertical-align: middle;\n",
       "    }\n",
       "\n",
       "    .dataframe tbody tr th {\n",
       "        vertical-align: top;\n",
       "    }\n",
       "\n",
       "    .dataframe thead th {\n",
       "        text-align: right;\n",
       "    }\n",
       "</style>\n",
       "<table border=\"1\" class=\"dataframe\">\n",
       "  <thead>\n",
       "    <tr style=\"text-align: right;\">\n",
       "      <th></th>\n",
       "      <th>time_id</th>\n",
       "      <th>wap1_mean</th>\n",
       "      <th>wap1_std</th>\n",
       "      <th>wap1_max</th>\n",
       "      <th>wap2_mean</th>\n",
       "      <th>wap2_std</th>\n",
       "      <th>wap2_max</th>\n",
       "      <th>h_spread_l1_mean</th>\n",
       "      <th>h_spread_l1_std</th>\n",
       "      <th>h_spread_l2_mean</th>\n",
       "      <th>...</th>\n",
       "      <th>ask_price_mean</th>\n",
       "      <th>ask_price_std</th>\n",
       "      <th>bid_size_mean</th>\n",
       "      <th>bid_size_std</th>\n",
       "      <th>bid_price_mean</th>\n",
       "      <th>bid_price_std</th>\n",
       "      <th>order_count_mean</th>\n",
       "      <th>order_count_std</th>\n",
       "      <th>orders_time_book5</th>\n",
       "      <th>orders_time_book10</th>\n",
       "    </tr>\n",
       "  </thead>\n",
       "  <tbody>\n",
       "    <tr>\n",
       "      <th>0</th>\n",
       "      <td>-0.000031</td>\n",
       "      <td>0.514342</td>\n",
       "      <td>0.0012</td>\n",
       "      <td>0.294189</td>\n",
       "      <td>0.514913</td>\n",
       "      <td>0.0012</td>\n",
       "      <td>0.296383</td>\n",
       "      <td>0.029246</td>\n",
       "      <td>0.011454</td>\n",
       "      <td>0.045824</td>\n",
       "      <td>...</td>\n",
       "      <td>0.507889</td>\n",
       "      <td>0.0012</td>\n",
       "      <td>0.000385</td>\n",
       "      <td>0.0012</td>\n",
       "      <td>0.525247</td>\n",
       "      <td>0.0012</td>\n",
       "      <td>0.02963</td>\n",
       "      <td>0.015816</td>\n",
       "      <td>0.002151</td>\n",
       "      <td>0.0</td>\n",
       "    </tr>\n",
       "  </tbody>\n",
       "</table>\n",
       "<p>1 rows × 39 columns</p>\n",
       "</div>"
      ],
      "text/plain": [
       "    time_id  wap1_mean  wap1_std  wap1_max  wap2_mean  wap2_std  wap2_max  \\\n",
       "0 -0.000031   0.514342    0.0012  0.294189   0.514913    0.0012  0.296383   \n",
       "\n",
       "   h_spread_l1_mean  h_spread_l1_std  h_spread_l2_mean  ...  ask_price_mean  \\\n",
       "0          0.029246         0.011454          0.045824  ...        0.507889   \n",
       "\n",
       "   ask_price_std  bid_size_mean  bid_size_std  bid_price_mean  bid_price_std  \\\n",
       "0         0.0012       0.000385        0.0012        0.525247         0.0012   \n",
       "\n",
       "   order_count_mean  order_count_std  orders_time_book5  orders_time_book10  \n",
       "0           0.02963         0.015816           0.002151                 0.0  \n",
       "\n",
       "[1 rows x 39 columns]"
      ]
     },
     "execution_count": 15,
     "metadata": {},
     "output_type": "execute_result"
    }
   ],
   "source": [
    "fea_data_test"
   ]
  },
  {
   "cell_type": "code",
   "execution_count": 16,
   "metadata": {
    "execution": {
     "iopub.execute_input": "2021-08-25T14:21:10.916106Z",
     "iopub.status.busy": "2021-08-25T14:21:10.915303Z",
     "iopub.status.idle": "2021-08-25T14:21:11.064237Z",
     "shell.execute_reply": "2021-08-25T14:21:11.064806Z",
     "shell.execute_reply.started": "2021-08-25T13:38:15.269912Z"
    },
    "papermill": {
     "duration": 1.230117,
     "end_time": "2021-08-25T14:21:11.065006",
     "exception": false,
     "start_time": "2021-08-25T14:21:09.834889",
     "status": "completed"
    },
    "tags": []
   },
   "outputs": [],
   "source": [
    "prediction= model.predict(fea_data_test)"
   ]
  },
  {
   "cell_type": "code",
   "execution_count": 17,
   "metadata": {
    "execution": {
     "iopub.execute_input": "2021-08-25T14:21:13.302859Z",
     "iopub.status.busy": "2021-08-25T14:21:13.302183Z",
     "iopub.status.idle": "2021-08-25T14:21:13.308640Z",
     "shell.execute_reply": "2021-08-25T14:21:13.309159Z",
     "shell.execute_reply.started": "2021-08-25T13:38:17.841545Z"
    },
    "papermill": {
     "duration": 1.143387,
     "end_time": "2021-08-25T14:21:13.309333",
     "exception": false,
     "start_time": "2021-08-25T14:21:12.165946",
     "status": "completed"
    },
    "tags": []
   },
   "outputs": [
    {
     "data": {
      "text/plain": [
       "array([[0.00048494]], dtype=float32)"
      ]
     },
     "execution_count": 17,
     "metadata": {},
     "output_type": "execute_result"
    }
   ],
   "source": [
    "prediction"
   ]
  },
  {
   "cell_type": "code",
   "execution_count": 18,
   "metadata": {
    "execution": {
     "iopub.execute_input": "2021-08-25T14:21:15.491366Z",
     "iopub.status.busy": "2021-08-25T14:21:15.490467Z",
     "iopub.status.idle": "2021-08-25T14:21:15.501353Z",
     "shell.execute_reply": "2021-08-25T14:21:15.500716Z",
     "shell.execute_reply.started": "2021-08-25T13:38:22.85288Z"
    },
    "papermill": {
     "duration": 1.129439,
     "end_time": "2021-08-25T14:21:15.501564",
     "exception": false,
     "start_time": "2021-08-25T14:21:14.372125",
     "status": "completed"
    },
    "tags": []
   },
   "outputs": [],
   "source": []
  },
  {
   "cell_type": "code",
   "execution_count": null,
   "metadata": {
    "papermill": {
     "duration": 1.075584,
     "end_time": "2021-08-25T14:21:17.729228",
     "exception": false,
     "start_time": "2021-08-25T14:21:16.653644",
     "status": "completed"
    },
    "tags": []
   },
   "outputs": [],
   "source": []
  }
 ],
 "metadata": {
  "kernelspec": {
   "display_name": "Python 3",
   "language": "python",
   "name": "python3"
  },
  "language_info": {
   "codemirror_mode": {
    "name": "ipython",
    "version": 3
   },
   "file_extension": ".py",
   "mimetype": "text/x-python",
   "name": "python",
   "nbconvert_exporter": "python",
   "pygments_lexer": "ipython3",
   "version": "3.7.10"
  },
  "papermill": {
   "default_parameters": {},
   "duration": 235.169533,
   "end_time": "2021-08-25T14:21:21.300767",
   "environment_variables": {},
   "exception": null,
   "input_path": "__notebook__.ipynb",
   "output_path": "__notebook__.ipynb",
   "parameters": {},
   "start_time": "2021-08-25T14:17:26.131234",
   "version": "2.3.3"
  }
 },
 "nbformat": 4,
 "nbformat_minor": 5
}